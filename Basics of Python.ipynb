{
 "cells": [
  {
   "cell_type": "markdown",
   "id": "82daa8de",
   "metadata": {},
   "source": [
    "# Why Python?\n",
    "* Python works on different platforms (Windows, Mac, Linux, Raspberry Pi, etc).\n",
    "* Python has a simple syntax similar to the English language.\n",
    "* Python has syntax that allows developers to write programs with fewer lines than some other programming languages.\n",
    "\n",
    "* Python was designed for readability, and has some similarities to the English language with influence from mathematics."
   ]
  },
  {
   "cell_type": "markdown",
   "id": "a4cbb564",
   "metadata": {},
   "source": [
    "## Python Quickstart\n",
    "Python is an interpreted programming language, this means that as a developer you write Python (.py) files in a text editor and then put those files into the python interpreter to be executed."
   ]
  },
  {
   "cell_type": "code",
   "execution_count": 1,
   "id": "10ab815b",
   "metadata": {},
   "outputs": [
    {
     "name": "stdout",
     "output_type": "stream",
     "text": [
      "Hello World\n"
     ]
    }
   ],
   "source": [
    "print(\"Hello World\")"
   ]
  },
  {
   "cell_type": "markdown",
   "id": "9c8aee24",
   "metadata": {},
   "source": [
    "## Variables\n",
    "Variables are containers for storing data values."
   ]
  },
  {
   "cell_type": "code",
   "execution_count": 2,
   "id": "cf31fffa",
   "metadata": {},
   "outputs": [],
   "source": [
    "x = 5\n",
    "y = \"Hello, World!\""
   ]
  },
  {
   "cell_type": "code",
   "execution_count": 3,
   "id": "af635085",
   "metadata": {},
   "outputs": [
    {
     "name": "stdout",
     "output_type": "stream",
     "text": [
      "5\n"
     ]
    }
   ],
   "source": [
    "print(x)"
   ]
  },
  {
   "cell_type": "code",
   "execution_count": 4,
   "id": "31e2d9c9",
   "metadata": {},
   "outputs": [
    {
     "name": "stdout",
     "output_type": "stream",
     "text": [
      "Hello, World!\n"
     ]
    }
   ],
   "source": [
    "print(y)"
   ]
  },
  {
   "cell_type": "markdown",
   "id": "86441770",
   "metadata": {},
   "source": [
    "### We are able to change the type after they have been set."
   ]
  },
  {
   "cell_type": "code",
   "execution_count": 13,
   "id": "ff1dc182",
   "metadata": {},
   "outputs": [
    {
     "name": "stdout",
     "output_type": "stream",
     "text": [
      "Sally\n"
     ]
    }
   ],
   "source": [
    "x = 4       # x is of type int\n",
    "x = \"Sally\" # x is now of type str\n",
    "print(x)"
   ]
  },
  {
   "cell_type": "markdown",
   "id": "aa45f3c8",
   "metadata": {},
   "source": [
    "# Comments\n",
    "### Comments can be used to explain Python code.\n",
    "\n",
    "###  Comments can be used to make the code more readable.\n",
    "\n",
    "### Comments can be used to prevent execution when testing code."
   ]
  },
  {
   "cell_type": "code",
   "execution_count": 7,
   "id": "d87f686e",
   "metadata": {},
   "outputs": [
    {
     "name": "stdout",
     "output_type": "stream",
     "text": [
      "Welcome to ETLHive! \n"
     ]
    }
   ],
   "source": [
    "#This is a comment.\n",
    "print(\"Welcome to ETLHive! \")"
   ]
  },
  {
   "cell_type": "code",
   "execution_count": 8,
   "id": "9489e84c",
   "metadata": {},
   "outputs": [
    {
     "name": "stdout",
     "output_type": "stream",
     "text": [
      "Welcome to ETLHive! \n"
     ]
    }
   ],
   "source": [
    "print(\"Welcome to ETLHive! \") #This is a comment"
   ]
  },
  {
   "cell_type": "code",
   "execution_count": 9,
   "id": "0a3396f6",
   "metadata": {},
   "outputs": [
    {
     "name": "stdout",
     "output_type": "stream",
     "text": [
      "Cheer Up Everyone!\n"
     ]
    }
   ],
   "source": [
    "#print(\"Hello, World!\")\n",
    "print(\"Cheer Up Everyone!\")"
   ]
  },
  {
   "cell_type": "markdown",
   "id": "c61390c3",
   "metadata": {},
   "source": [
    "# Multi Line Comments\n",
    "Python does not really have a syntax for multi line comments.\n",
    "\n",
    "To add a multiline comment you could insert a # for each line:"
   ]
  },
  {
   "cell_type": "code",
   "execution_count": 10,
   "id": "9e2ba737",
   "metadata": {},
   "outputs": [
    {
     "name": "stdout",
     "output_type": "stream",
     "text": [
      "Welcome to ETLHive! \n"
     ]
    }
   ],
   "source": [
    "#This is a comment\n",
    "#written in\n",
    "#more than just one line\n",
    "print(\"Welcome to ETLHive! \")"
   ]
  },
  {
   "cell_type": "code",
   "execution_count": 12,
   "id": "6133893b",
   "metadata": {},
   "outputs": [
    {
     "name": "stdout",
     "output_type": "stream",
     "text": [
      "Hello World!\n"
     ]
    }
   ],
   "source": [
    "\"\"\"\n",
    "This is a comment\n",
    "written in\n",
    "more than just one line\n",
    "\"\"\"\n",
    "print(\"Hello World!\")"
   ]
  },
  {
   "cell_type": "markdown",
   "id": "3f13e502",
   "metadata": {},
   "source": [
    "### Get the Type\n",
    "You can get the data type of a variable with the type() function."
   ]
  },
  {
   "cell_type": "code",
   "execution_count": 14,
   "id": "06f762f1",
   "metadata": {},
   "outputs": [
    {
     "name": "stdout",
     "output_type": "stream",
     "text": [
      "<class 'int'>\n",
      "<class 'str'>\n"
     ]
    }
   ],
   "source": [
    "x = 5\n",
    "y = \"John\"\n",
    "print(type(x))\n",
    "print(type(y))"
   ]
  },
  {
   "cell_type": "markdown",
   "id": "81ec3f03",
   "metadata": {},
   "source": [
    "# Case-Sensitive\n",
    "Variable names are case-sensitive."
   ]
  },
  {
   "cell_type": "code",
   "execution_count": 15,
   "id": "90dd2990",
   "metadata": {},
   "outputs": [],
   "source": [
    "e = 4\n",
    "E = \"Accha Suno Na..\"\n",
    "# E will not overwrite e"
   ]
  },
  {
   "cell_type": "markdown",
   "id": "6e6df820",
   "metadata": {},
   "source": [
    "## Rules for Python variables:"
   ]
  },
  {
   "cell_type": "markdown",
   "id": "a62590d3",
   "metadata": {},
   "source": [
    "* A variable name must start with a letter or the underscore character\n",
    "* A variable name cannot start with a number\n",
    "* A variable name can only contain alpha-numeric characters and underscores (A-z, 0-9, and _ )\n",
    "* Variable names are case-sensitive (age, Age and AGE are three different variables)"
   ]
  },
  {
   "cell_type": "code",
   "execution_count": 20,
   "id": "f920f21f",
   "metadata": {},
   "outputs": [],
   "source": [
    "datascience = 'ETlhive'\n",
    "data_science = 'ETlhive'\n",
    "_DATA_SCIENCE = 'ETlhive'\n",
    "_DATA_SCIENCE22 = 'ETlhive'"
   ]
  },
  {
   "cell_type": "markdown",
   "id": "5a58849e",
   "metadata": {},
   "source": [
    "# Illegal variable names:"
   ]
  },
  {
   "cell_type": "code",
   "execution_count": 21,
   "id": "b89f8a3c",
   "metadata": {},
   "outputs": [
    {
     "ename": "SyntaxError",
     "evalue": "invalid syntax (<ipython-input-21-cc0aa8765224>, line 1)",
     "output_type": "error",
     "traceback": [
      "\u001b[1;36m  File \u001b[1;32m\"<ipython-input-21-cc0aa8765224>\"\u001b[1;36m, line \u001b[1;32m1\u001b[0m\n\u001b[1;33m    2myHOME = \"sUYASH\"\u001b[0m\n\u001b[1;37m     ^\u001b[0m\n\u001b[1;31mSyntaxError\u001b[0m\u001b[1;31m:\u001b[0m invalid syntax\n"
     ]
    }
   ],
   "source": [
    "2myHOME = \"sUYASH\"\n",
    "my-HOME = \"sUYASH\"\n",
    "my HOME = \"Suyash\""
   ]
  },
  {
   "cell_type": "markdown",
   "id": "1a36924f",
   "metadata": {},
   "source": [
    "### Remember that variable names are case-sensitive"
   ]
  },
  {
   "cell_type": "markdown",
   "id": "9de11872",
   "metadata": {},
   "source": [
    "### Many Values to Multiple Variables\n",
    "Python allows you to assign values to multiple variables in one line"
   ]
  },
  {
   "cell_type": "code",
   "execution_count": 22,
   "id": "722249e6",
   "metadata": {},
   "outputs": [
    {
     "name": "stdout",
     "output_type": "stream",
     "text": [
      "ML\n",
      "DL\n",
      "AI\n"
     ]
    }
   ],
   "source": [
    "x, y, z = \"ML\", \"DL\", \"AI\"\n",
    "print(x)\n",
    "print(y)\n",
    "print(z)"
   ]
  },
  {
   "cell_type": "markdown",
   "id": "788f782f",
   "metadata": {},
   "source": [
    "### One Value to Multiple Variables\n",
    "And you can assign the same value to multiple variables in one line:"
   ]
  },
  {
   "cell_type": "code",
   "execution_count": 23,
   "id": "c80049b4",
   "metadata": {},
   "outputs": [
    {
     "name": "stdout",
     "output_type": "stream",
     "text": [
      "Machine Learning\n",
      "Machine Learning\n",
      "Machine Learning\n"
     ]
    }
   ],
   "source": [
    "x = y = z = \"Machine Learning\"\n",
    "print(x)\n",
    "print(y)\n",
    "print(z)"
   ]
  },
  {
   "cell_type": "markdown",
   "id": "54cc1c20",
   "metadata": {},
   "source": [
    "##  Unpack a Collection\n",
    "If you have a collection of values in a list, tuple etc. Python allows you to extract the values into variables. This is called unpacking."
   ]
  },
  {
   "cell_type": "code",
   "execution_count": 26,
   "id": "11eb3525",
   "metadata": {},
   "outputs": [
    {
     "name": "stdout",
     "output_type": "stream",
     "text": [
      "Linear Algebra\n",
      "Stats\n",
      "Probablity\n"
     ]
    }
   ],
   "source": [
    "Maths_for_DS = [\"Linear Algebra\", \"Stats\", \"Probablity\"]\n",
    "x, y, z = Maths_for_DS\n",
    "print(x)\n",
    "print(y)\n",
    "print(z)"
   ]
  },
  {
   "cell_type": "markdown",
   "id": "8d40ce3e",
   "metadata": {},
   "source": [
    "## Python input() Function"
   ]
  },
  {
   "cell_type": "code",
   "execution_count": 27,
   "id": "0c404078",
   "metadata": {},
   "outputs": [
    {
     "name": "stdout",
     "output_type": "stream",
     "text": [
      "Enter your name:\n",
      "Akshay\n",
      "Hello, Akshay\n"
     ]
    }
   ],
   "source": [
    "print('Enter your name:')\n",
    "x = input()\n",
    "print('Hello, ' + x)"
   ]
  },
  {
   "cell_type": "markdown",
   "id": "b76a088a",
   "metadata": {},
   "source": [
    "### The input() function allows user input"
   ]
  },
  {
   "cell_type": "code",
   "execution_count": 29,
   "id": "ea741cbf",
   "metadata": {},
   "outputs": [
    {
     "name": "stdout",
     "output_type": "stream",
     "text": [
      "Enter a string: he44\n"
     ]
    }
   ],
   "source": [
    "inputString = input('Enter a string:')"
   ]
  },
  {
   "cell_type": "code",
   "execution_count": null,
   "id": "98bdfe79",
   "metadata": {},
   "outputs": [],
   "source": []
  }
 ],
 "metadata": {
  "kernelspec": {
   "display_name": "Python 3 (ipykernel)",
   "language": "python",
   "name": "python3"
  },
  "language_info": {
   "codemirror_mode": {
    "name": "ipython",
    "version": 3
   },
   "file_extension": ".py",
   "mimetype": "text/x-python",
   "name": "python",
   "nbconvert_exporter": "python",
   "pygments_lexer": "ipython3",
   "version": "3.9.12"
  }
 },
 "nbformat": 4,
 "nbformat_minor": 5
}
